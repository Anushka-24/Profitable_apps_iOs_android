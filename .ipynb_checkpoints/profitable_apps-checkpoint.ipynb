{
 "cells": [
  {
   "cell_type": "markdown",
   "id": "080313b2",
   "metadata": {},
   "source": [
    "### Profitable apps in Google play store and Apple store\n",
    "In this project, we will find out which apps are profitable in both stores. As we are working with the apps which are free to install and the revenue is consisted into the app-ads, so we need to check which apps are attracting the users. <br>\n",
    "Here, two data sets have been used. One is for google play and another one is for apple. Google play store has approximately 10 thousands of apps and apple store has approximateky 7 thousands of apps.<br>\n",
    "Download the data set from here: <br>\n",
    "[Google Play](https://www.kaggle.com/lava18/google-play-store-apps) <br>\n",
    "[Apple Store](https://www.kaggle.com/ramamet4/app-store-apple-data-set-10k-apps)<br>\n",
    "Let's jump to the work!"
   ]
  },
  {
   "cell_type": "code",
   "execution_count": 1,
   "id": "b5ced305",
   "metadata": {},
   "outputs": [],
   "source": [
    "# Import libraries\n",
    "import pandas as pd"
   ]
  },
  {
   "cell_type": "code",
   "execution_count": 2,
   "id": "4af8ca19",
   "metadata": {},
   "outputs": [],
   "source": [
    "# Read the data set\n",
    "apple_data=pd.read_csv('AppleStore.csv')\n",
    "goole_data=pd.read_csv('googleplaystore.csv')\n"
   ]
  },
  {
   "cell_type": "code",
   "execution_count": null,
   "id": "73570dd7",
   "metadata": {},
   "outputs": [],
   "source": []
  }
 ],
 "metadata": {
  "kernelspec": {
   "display_name": "Python 3 (ipykernel)",
   "language": "python",
   "name": "python3"
  },
  "language_info": {
   "codemirror_mode": {
    "name": "ipython",
    "version": 3
   },
   "file_extension": ".py",
   "mimetype": "text/x-python",
   "name": "python",
   "nbconvert_exporter": "python",
   "pygments_lexer": "ipython3",
   "version": "3.9.7"
  }
 },
 "nbformat": 4,
 "nbformat_minor": 5
}
